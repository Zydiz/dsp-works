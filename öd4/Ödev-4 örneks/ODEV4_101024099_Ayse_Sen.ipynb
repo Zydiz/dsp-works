{
 "cells": [
  {
   "cell_type": "markdown",
   "metadata": {},
   "source": [
    "# ODEV4\n",
    "# Öğrenci No: 101024099\n",
    "# Öğrenci Adı ve Soyadı: Ayse Şen\n",
    "\n",
    "\n",
    "### Ödev-4 başlığı altındaki tüm soruları tek bir ipynb dosyası olarak ve dosya adını ODEV4_ÖgrenciNo_Adi_Soyadı.ipynb formatına uygun hazırlayıp sisteme yükleyiniz. \n",
    "\n",
    "### Yukarıda bilgileri verilen örnek öğrenci için dokümanın adı ODEV4_101024099_Ayse_Sen olmalıdır. \n",
    "\n",
    "### Sistem sadece .ipyb uzantılı dosya kabul edecektir. \n"
   ]
  },
  {
   "cell_type": "markdown",
   "metadata": {},
   "source": [
    "## Ön hazırlık dosyasında verilen kodlar aşağıya yazılacak:"
   ]
  },
  {
   "cell_type": "code",
   "execution_count": 4,
   "metadata": {},
   "outputs": [],
   "source": [
    "import numpy as np\n",
    "import matplotlib.pyplot as plt\n",
    "%matplotlib notebook\n",
    "\n",
    "##--------------------KODLAR buraya eklenecek------------------------\n",
    "## ....\n",
    "## ....\n",
    "## ....\n",
    "\n",
    "\n",
    "\n"
   ]
  },
  {
   "cell_type": "markdown",
   "metadata": {},
   "source": [
    "## ÖDEV-4 başlığı altındaki soruların çözümleri aşağıda verilecek"
   ]
  },
  {
   "cell_type": "markdown",
   "metadata": {},
   "source": [
    "### SORU-1"
   ]
  },
  {
   "cell_type": "code",
   "execution_count": null,
   "metadata": {},
   "outputs": [],
   "source": [
    "##KODLAR.."
   ]
  },
  {
   "cell_type": "markdown",
   "metadata": {},
   "source": [
    "## I)"
   ]
  },
  {
   "cell_type": "code",
   "execution_count": null,
   "metadata": {},
   "outputs": [],
   "source": [
    "...."
   ]
  },
  {
   "cell_type": "markdown",
   "metadata": {},
   "source": [
    "## II)"
   ]
  },
  {
   "cell_type": "code",
   "execution_count": null,
   "metadata": {},
   "outputs": [],
   "source": [
    "...."
   ]
  },
  {
   "cell_type": "markdown",
   "metadata": {},
   "source": [
    "### SORU-2"
   ]
  },
  {
   "cell_type": "code",
   "execution_count": null,
   "metadata": {},
   "outputs": [],
   "source": [
    "##KODLAR.."
   ]
  },
  {
   "cell_type": "code",
   "execution_count": null,
   "metadata": {},
   "outputs": [],
   "source": []
  },
  {
   "cell_type": "code",
   "execution_count": null,
   "metadata": {},
   "outputs": [],
   "source": []
  },
  {
   "cell_type": "code",
   "execution_count": null,
   "metadata": {},
   "outputs": [],
   "source": []
  }
 ],
 "metadata": {
  "kernelspec": {
   "display_name": "Python 3",
   "language": "python",
   "name": "python3"
  },
  "language_info": {
   "codemirror_mode": {
    "name": "ipython",
    "version": 3
   },
   "file_extension": ".py",
   "mimetype": "text/x-python",
   "name": "python",
   "nbconvert_exporter": "python",
   "pygments_lexer": "ipython3",
   "version": "3.8.5"
  }
 },
 "nbformat": 4,
 "nbformat_minor": 2
}
